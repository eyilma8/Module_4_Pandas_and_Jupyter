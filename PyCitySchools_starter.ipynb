{
 "cells": [
  {
   "cell_type": "markdown",
   "metadata": {},
   "source": [
    "# PyCity Schools Analysis\n",
    "\n",
    "- Your analysis here\n",
    "  \n",
    "---"
   ]
  },
  {
   "cell_type": "code",
   "execution_count": 1,
   "metadata": {},
   "outputs": [
    {
     "data": {
      "text/html": [
       "<div>\n",
       "<style scoped>\n",
       "    .dataframe tbody tr th:only-of-type {\n",
       "        vertical-align: middle;\n",
       "    }\n",
       "\n",
       "    .dataframe tbody tr th {\n",
       "        vertical-align: top;\n",
       "    }\n",
       "\n",
       "    .dataframe thead th {\n",
       "        text-align: right;\n",
       "    }\n",
       "</style>\n",
       "<table border=\"1\" class=\"dataframe\">\n",
       "  <thead>\n",
       "    <tr style=\"text-align: right;\">\n",
       "      <th></th>\n",
       "      <th>Student ID</th>\n",
       "      <th>student_name</th>\n",
       "      <th>gender</th>\n",
       "      <th>grade</th>\n",
       "      <th>school_name</th>\n",
       "      <th>reading_score</th>\n",
       "      <th>math_score</th>\n",
       "      <th>School ID</th>\n",
       "      <th>type</th>\n",
       "      <th>size</th>\n",
       "      <th>budget</th>\n",
       "    </tr>\n",
       "  </thead>\n",
       "  <tbody>\n",
       "    <tr>\n",
       "      <th>0</th>\n",
       "      <td>0</td>\n",
       "      <td>Paul Bradley</td>\n",
       "      <td>M</td>\n",
       "      <td>9th</td>\n",
       "      <td>Huang High School</td>\n",
       "      <td>66</td>\n",
       "      <td>79</td>\n",
       "      <td>0</td>\n",
       "      <td>District</td>\n",
       "      <td>2917</td>\n",
       "      <td>1910635</td>\n",
       "    </tr>\n",
       "    <tr>\n",
       "      <th>1</th>\n",
       "      <td>1</td>\n",
       "      <td>Victor Smith</td>\n",
       "      <td>M</td>\n",
       "      <td>12th</td>\n",
       "      <td>Huang High School</td>\n",
       "      <td>94</td>\n",
       "      <td>61</td>\n",
       "      <td>0</td>\n",
       "      <td>District</td>\n",
       "      <td>2917</td>\n",
       "      <td>1910635</td>\n",
       "    </tr>\n",
       "    <tr>\n",
       "      <th>2</th>\n",
       "      <td>2</td>\n",
       "      <td>Kevin Rodriguez</td>\n",
       "      <td>M</td>\n",
       "      <td>12th</td>\n",
       "      <td>Huang High School</td>\n",
       "      <td>90</td>\n",
       "      <td>60</td>\n",
       "      <td>0</td>\n",
       "      <td>District</td>\n",
       "      <td>2917</td>\n",
       "      <td>1910635</td>\n",
       "    </tr>\n",
       "    <tr>\n",
       "      <th>3</th>\n",
       "      <td>3</td>\n",
       "      <td>Dr. Richard Scott</td>\n",
       "      <td>M</td>\n",
       "      <td>12th</td>\n",
       "      <td>Huang High School</td>\n",
       "      <td>67</td>\n",
       "      <td>58</td>\n",
       "      <td>0</td>\n",
       "      <td>District</td>\n",
       "      <td>2917</td>\n",
       "      <td>1910635</td>\n",
       "    </tr>\n",
       "    <tr>\n",
       "      <th>4</th>\n",
       "      <td>4</td>\n",
       "      <td>Bonnie Ray</td>\n",
       "      <td>F</td>\n",
       "      <td>9th</td>\n",
       "      <td>Huang High School</td>\n",
       "      <td>97</td>\n",
       "      <td>84</td>\n",
       "      <td>0</td>\n",
       "      <td>District</td>\n",
       "      <td>2917</td>\n",
       "      <td>1910635</td>\n",
       "    </tr>\n",
       "  </tbody>\n",
       "</table>\n",
       "</div>"
      ],
      "text/plain": [
       "   Student ID       student_name gender grade        school_name  \\\n",
       "0           0       Paul Bradley      M   9th  Huang High School   \n",
       "1           1       Victor Smith      M  12th  Huang High School   \n",
       "2           2    Kevin Rodriguez      M  12th  Huang High School   \n",
       "3           3  Dr. Richard Scott      M  12th  Huang High School   \n",
       "4           4         Bonnie Ray      F   9th  Huang High School   \n",
       "\n",
       "   reading_score  math_score  School ID      type  size   budget  \n",
       "0             66          79          0  District  2917  1910635  \n",
       "1             94          61          0  District  2917  1910635  \n",
       "2             90          60          0  District  2917  1910635  \n",
       "3             67          58          0  District  2917  1910635  \n",
       "4             97          84          0  District  2917  1910635  "
      ]
     },
     "execution_count": 1,
     "metadata": {},
     "output_type": "execute_result"
    }
   ],
   "source": [
    "# Dependencies and Setup\n",
    "import pandas as pd\n",
    "from pathlib import Path\n",
    "\n",
    "# File to Load (Remember to Change These)\n",
    "school_data_to_load = Path(\"Resources/schools_complete.csv\")\n",
    "student_data_to_load = Path(\"Resources/students_complete.csv\")\n",
    "\n",
    "# Read School and Student Data File and store into Pandas DataFrames\n",
    "school_data = pd.read_csv(school_data_to_load)\n",
    "student_data = pd.read_csv(student_data_to_load)\n",
    "\n",
    "# Combine the data into a single dataset.  \n",
    "school_data_complete = pd.merge(student_data, school_data, how=\"left\", on=[\"school_name\", \"school_name\"])\n",
    "school_data_complete.head()"
   ]
  },
  {
   "cell_type": "markdown",
   "metadata": {},
   "source": [
    "## District Summary"
   ]
  },
  {
   "cell_type": "code",
   "execution_count": 2,
   "metadata": {},
   "outputs": [
    {
     "data": {
      "text/plain": [
       "15"
      ]
     },
     "execution_count": 2,
     "metadata": {},
     "output_type": "execute_result"
    }
   ],
   "source": [
    "# Calculate the total number of unique schools\n",
    "school_count = school_data_complete[\"school_name\"].value_counts().count()\n",
    "school_count"
   ]
  },
  {
   "cell_type": "code",
   "execution_count": 3,
   "metadata": {},
   "outputs": [
    {
     "data": {
      "text/plain": [
       "39170"
      ]
     },
     "execution_count": 3,
     "metadata": {},
     "output_type": "execute_result"
    }
   ],
   "source": [
    "# Calculate the total number of students\n",
    "student_count = school_data_complete[\"Student ID\"].count()\n",
    "student_count"
   ]
  },
  {
   "cell_type": "code",
   "execution_count": 4,
   "metadata": {},
   "outputs": [
    {
     "data": {
      "text/plain": [
       "24649428.0"
      ]
     },
     "execution_count": 4,
     "metadata": {},
     "output_type": "execute_result"
    }
   ],
   "source": [
    "# Calculate the total budget\n",
    "total_budget = school_data_complete.groupby([\"school_name\"])[\"budget\"].mean().sum()\n",
    "total_budget"
   ]
  },
  {
   "cell_type": "code",
   "execution_count": 5,
   "metadata": {},
   "outputs": [
    {
     "data": {
      "text/plain": [
       "78.98537145774827"
      ]
     },
     "execution_count": 5,
     "metadata": {},
     "output_type": "execute_result"
    }
   ],
   "source": [
    "# Calculate the average (mean) math score\n",
    "average_math_score = school_data_complete[\"math_score\"].mean()\n",
    "average_math_score"
   ]
  },
  {
   "cell_type": "code",
   "execution_count": 6,
   "metadata": {},
   "outputs": [
    {
     "data": {
      "text/plain": [
       "81.87784018381414"
      ]
     },
     "execution_count": 6,
     "metadata": {},
     "output_type": "execute_result"
    }
   ],
   "source": [
    "# Calculate the average (mean) reading score\n",
    "average_reading_score = school_data_complete[\"reading_score\"].mean()\n",
    "average_reading_score"
   ]
  },
  {
   "cell_type": "code",
   "execution_count": 7,
   "metadata": {},
   "outputs": [
    {
     "data": {
      "text/plain": [
       "74.9808526933878"
      ]
     },
     "execution_count": 7,
     "metadata": {},
     "output_type": "execute_result"
    }
   ],
   "source": [
    "# Use the following to calculate the percentage of students who passed math (math scores greather than or equal to 70)\n",
    "passing_math_count = school_data_complete[(school_data_complete[\"math_score\"] >= 70)].count()[\"student_name\"]\n",
    "passing_math_percentage = (passing_math_count / float(student_count)) * 100\n",
    "passing_math_percentage"
   ]
  },
  {
   "cell_type": "code",
   "execution_count": 8,
   "metadata": {},
   "outputs": [
    {
     "data": {
      "text/plain": [
       "85.80546336482001"
      ]
     },
     "execution_count": 8,
     "metadata": {},
     "output_type": "execute_result"
    }
   ],
   "source": [
    "# Calculate the percentage of students who passed reading (hint: look at how the math percentage was calculated)  \n",
    "passing_reading_count = school_data_complete[(school_data_complete[\"reading_score\"]>=70)].count()[\"student_name\"]\n",
    "passing_reading_percentage=(passing_reading_count / float(student_count))*100\n",
    "passing_reading_percentage  "
   ]
  },
  {
   "cell_type": "code",
   "execution_count": 9,
   "metadata": {},
   "outputs": [
    {
     "data": {
      "text/plain": [
       "65.17232575950983"
      ]
     },
     "execution_count": 9,
     "metadata": {},
     "output_type": "execute_result"
    }
   ],
   "source": [
    "# Use the following to calculate the percentage of students that passed math and reading\n",
    "passing_math_reading_count = school_data_complete[\n",
    "    (school_data_complete[\"math_score\"] >= 70) & (school_data_complete[\"reading_score\"] >= 70)\n",
    "].count()[\"student_name\"]\n",
    "overall_passing_rate = (passing_math_reading_count /  float(student_count)) * 100\n",
    "overall_passing_rate"
   ]
  },
  {
   "cell_type": "code",
   "execution_count": 10,
   "metadata": {},
   "outputs": [
    {
     "data": {
      "text/html": [
       "<div>\n",
       "<style scoped>\n",
       "    .dataframe tbody tr th:only-of-type {\n",
       "        vertical-align: middle;\n",
       "    }\n",
       "\n",
       "    .dataframe tbody tr th {\n",
       "        vertical-align: top;\n",
       "    }\n",
       "\n",
       "    .dataframe thead th {\n",
       "        text-align: right;\n",
       "    }\n",
       "</style>\n",
       "<table border=\"1\" class=\"dataframe\">\n",
       "  <thead>\n",
       "    <tr style=\"text-align: right;\">\n",
       "      <th></th>\n",
       "      <th>Total Schools</th>\n",
       "      <th>Total Students</th>\n",
       "      <th>Total Budget</th>\n",
       "      <th>Average Math Score</th>\n",
       "      <th>Average Reading Score</th>\n",
       "      <th>% Passing Math</th>\n",
       "      <th>% Passing Reading</th>\n",
       "      <th>% Overall Passing</th>\n",
       "    </tr>\n",
       "  </thead>\n",
       "  <tbody>\n",
       "    <tr>\n",
       "      <th>0</th>\n",
       "      <td>15</td>\n",
       "      <td>39,170</td>\n",
       "      <td>$24,649,428.00</td>\n",
       "      <td>78.985371</td>\n",
       "      <td>81.87784</td>\n",
       "      <td>74.980853</td>\n",
       "      <td>85.805463</td>\n",
       "      <td>65.172326</td>\n",
       "    </tr>\n",
       "  </tbody>\n",
       "</table>\n",
       "</div>"
      ],
      "text/plain": [
       "   Total Schools Total Students    Total Budget  Average Math Score  \\\n",
       "0             15         39,170  $24,649,428.00           78.985371   \n",
       "\n",
       "   Average Reading Score  % Passing Math  % Passing Reading  % Overall Passing  \n",
       "0               81.87784       74.980853          85.805463          65.172326  "
      ]
     },
     "execution_count": 10,
     "metadata": {},
     "output_type": "execute_result"
    }
   ],
   "source": [
    "district_summary = pd.DataFrame({\"Total Schools\": [school_count],\n",
    "                                         \"Total Students\":[student_count],\n",
    "                                         \"Total Budget\":[total_budget],\n",
    "                                         \"Average Math Score\":[average_math_score],\n",
    "                                         \"Average Reading Score\":[average_reading_score],  \n",
    "                                         \"% Passing Math\":[passing_math_percentage],\n",
    "                                         \"% Passing Reading\":[passing_reading_percentage],\n",
    "                                         \"% Overall Passing\":[overall_passing_rate]})\n",
    "\n",
    "# Formatting\n",
    "district_summary[\"Total Students\"] = district_summary[\"Total Students\"].map(\"{:,}\".format)\n",
    "district_summary[\"Total Budget\"] = district_summary[\"Total Budget\"].map(\"${:,.2f}\".format)\n",
    "\n",
    "# Display the DataFrame\n",
    "district_summary"
   ]
  },
  {
   "cell_type": "markdown",
   "metadata": {},
   "source": [
    "## School Summary"
   ]
  },
  {
   "cell_type": "code",
   "execution_count": 11,
   "metadata": {},
   "outputs": [
    {
     "data": {
      "text/plain": [
       "school_name\n",
       "Huang High School        District\n",
       "Figueroa High School     District\n",
       "Shelton High School       Charter\n",
       "Hernandez High School    District\n",
       "Griffin High School       Charter\n",
       "Wilson High School        Charter\n",
       "Cabrera High School       Charter\n",
       "Bailey High School       District\n",
       "Holden High School        Charter\n",
       "Pena High School          Charter\n",
       "Wright High School        Charter\n",
       "Rodriguez High School    District\n",
       "Johnson High School      District\n",
       "Ford High School         District\n",
       "Thomas High School        Charter\n",
       "Name: type, dtype: object"
      ]
     },
     "execution_count": 11,
     "metadata": {},
     "output_type": "execute_result"
    }
   ],
   "source": [
    "# Use the code provided to select all of the school types\n",
    "school_types=school_data.set_index(['school_name'])[\"type\"]\n",
    "school_types"
   ]
  },
  {
   "cell_type": "code",
   "execution_count": 17,
   "metadata": {},
   "outputs": [
    {
     "data": {
      "text/plain": [
       "school_name\n",
       "Bailey High School       4976\n",
       "Cabrera High School      1858\n",
       "Figueroa High School     2949\n",
       "Ford High School         2739\n",
       "Griffin High School      1468\n",
       "Hernandez High School    4635\n",
       "Holden High School        427\n",
       "Huang High School        2917\n",
       "Johnson High School      4761\n",
       "Pena High School          962\n",
       "Rodriguez High School    3999\n",
       "Shelton High School      1761\n",
       "Thomas High School       1635\n",
       "Wilson High School       2283\n",
       "Wright High School       1800\n",
       "Name: Student ID, dtype: int64"
      ]
     },
     "execution_count": 17,
     "metadata": {},
     "output_type": "execute_result"
    }
   ],
   "source": [
    "# Calculate the total student count per school\n",
    "per_school_counts = school_data_complete.groupby([\"school_name\"]).count()[\"Student ID\"]\n",
    "per_school_counts\n"
   ]
  },
  {
   "cell_type": "code",
   "execution_count": 13,
   "metadata": {},
   "outputs": [
    {
     "data": {
      "text/plain": [
       "school_name\n",
       "Bailey High School       3124928.0\n",
       "Cabrera High School      1081356.0\n",
       "Figueroa High School     1884411.0\n",
       "Ford High School         1763916.0\n",
       "Griffin High School       917500.0\n",
       "Hernandez High School    3022020.0\n",
       "Holden High School        248087.0\n",
       "Huang High School        1910635.0\n",
       "Johnson High School      3094650.0\n",
       "Pena High School          585858.0\n",
       "Rodriguez High School    2547363.0\n",
       "Shelton High School      1056600.0\n",
       "Thomas High School       1043130.0\n",
       "Wilson High School       1319574.0\n",
       "Wright High School       1049400.0\n",
       "Name: budget, dtype: float64"
      ]
     },
     "execution_count": 13,
     "metadata": {},
     "output_type": "execute_result"
    }
   ],
   "source": [
    "# Calculate the total school budget and per capita spending per school\n",
    "per_school_budget = school_data_complete.groupby([\"school_name\"])[\"budget\"].mean()\n",
    "per_school_capita = per_school_budget/school_data_complete[\"student_name\"].count()\n",
    "#per_school_capita\n",
    "per_school_budget"
   ]
  },
  {
   "cell_type": "code",
   "execution_count": 14,
   "metadata": {},
   "outputs": [
    {
     "data": {
      "text/plain": [
       "school_name\n",
       "Bailey High School       81.033963\n",
       "Cabrera High School      83.975780\n",
       "Figueroa High School     81.158020\n",
       "Ford High School         80.746258\n",
       "Griffin High School      83.816757\n",
       "Hernandez High School    80.934412\n",
       "Holden High School       83.814988\n",
       "Huang High School        81.182722\n",
       "Johnson High School      80.966394\n",
       "Pena High School         84.044699\n",
       "Rodriguez High School    80.744686\n",
       "Shelton High School      83.725724\n",
       "Thomas High School       83.848930\n",
       "Wilson High School       83.989488\n",
       "Wright High School       83.955000\n",
       "Name: reading_score, dtype: float64"
      ]
     },
     "execution_count": 14,
     "metadata": {},
     "output_type": "execute_result"
    }
   ],
   "source": [
    "# Calculate the average test scores per school\n",
    "per_school_math = school_data_complete.groupby([\"school_name\"])[\"math_score\"].mean()\n",
    "per_school_math\n",
    "per_school_reading = school_data_complete.groupby([\"school_name\"])[\"reading_score\"].mean()\n",
    "per_school_reading\n"
   ]
  },
  {
   "cell_type": "code",
   "execution_count": 10,
   "metadata": {},
   "outputs": [
    {
     "data": {
      "text/html": [
       "<div>\n",
       "<style scoped>\n",
       "    .dataframe tbody tr th:only-of-type {\n",
       "        vertical-align: middle;\n",
       "    }\n",
       "\n",
       "    .dataframe tbody tr th {\n",
       "        vertical-align: top;\n",
       "    }\n",
       "\n",
       "    .dataframe thead th {\n",
       "        text-align: right;\n",
       "    }\n",
       "</style>\n",
       "<table border=\"1\" class=\"dataframe\">\n",
       "  <thead>\n",
       "    <tr style=\"text-align: right;\">\n",
       "      <th></th>\n",
       "      <th>math_score</th>\n",
       "    </tr>\n",
       "    <tr>\n",
       "      <th>school_name</th>\n",
       "      <th></th>\n",
       "    </tr>\n",
       "  </thead>\n",
       "  <tbody>\n",
       "    <tr>\n",
       "      <th>Bailey High School</th>\n",
       "      <td>3318</td>\n",
       "    </tr>\n",
       "    <tr>\n",
       "      <th>Cabrera High School</th>\n",
       "      <td>1749</td>\n",
       "    </tr>\n",
       "    <tr>\n",
       "      <th>Figueroa High School</th>\n",
       "      <td>1946</td>\n",
       "    </tr>\n",
       "    <tr>\n",
       "      <th>Ford High School</th>\n",
       "      <td>1871</td>\n",
       "    </tr>\n",
       "    <tr>\n",
       "      <th>Griffin High School</th>\n",
       "      <td>1371</td>\n",
       "    </tr>\n",
       "    <tr>\n",
       "      <th>Hernandez High School</th>\n",
       "      <td>3094</td>\n",
       "    </tr>\n",
       "    <tr>\n",
       "      <th>Holden High School</th>\n",
       "      <td>395</td>\n",
       "    </tr>\n",
       "    <tr>\n",
       "      <th>Huang High School</th>\n",
       "      <td>1916</td>\n",
       "    </tr>\n",
       "    <tr>\n",
       "      <th>Johnson High School</th>\n",
       "      <td>3145</td>\n",
       "    </tr>\n",
       "    <tr>\n",
       "      <th>Pena High School</th>\n",
       "      <td>910</td>\n",
       "    </tr>\n",
       "    <tr>\n",
       "      <th>Rodriguez High School</th>\n",
       "      <td>2654</td>\n",
       "    </tr>\n",
       "    <tr>\n",
       "      <th>Shelton High School</th>\n",
       "      <td>1653</td>\n",
       "    </tr>\n",
       "    <tr>\n",
       "      <th>Thomas High School</th>\n",
       "      <td>1525</td>\n",
       "    </tr>\n",
       "    <tr>\n",
       "      <th>Wilson High School</th>\n",
       "      <td>2143</td>\n",
       "    </tr>\n",
       "    <tr>\n",
       "      <th>Wright High School</th>\n",
       "      <td>1680</td>\n",
       "    </tr>\n",
       "  </tbody>\n",
       "</table>\n",
       "</div>"
      ],
      "text/plain": [
       "                       math_score\n",
       "school_name                      \n",
       "Bailey High School           3318\n",
       "Cabrera High School          1749\n",
       "Figueroa High School         1946\n",
       "Ford High School             1871\n",
       "Griffin High School          1371\n",
       "Hernandez High School        3094\n",
       "Holden High School            395\n",
       "Huang High School            1916\n",
       "Johnson High School          3145\n",
       "Pena High School              910\n",
       "Rodriguez High School        2654\n",
       "Shelton High School          1653\n",
       "Thomas High School           1525\n",
       "Wilson High School           2143\n",
       "Wright High School           1680"
      ]
     },
     "execution_count": 10,
     "metadata": {},
     "output_type": "execute_result"
    }
   ],
   "source": [
    "# Calculate the number of students per school with math scores of 70 or higher\n",
    "students_passing_math = school_data_complete[school_data_complete[\"math_score\"] >= 70]\n",
    "\n",
    "school_students_passing_math=students_passing_math.groupby([\"school_name\"])[[\"math_score\"]].count()\n",
    "school_students_passing_math"
   ]
  },
  {
   "cell_type": "code",
   "execution_count": 11,
   "metadata": {},
   "outputs": [
    {
     "data": {
      "text/html": [
       "<div>\n",
       "<style scoped>\n",
       "    .dataframe tbody tr th:only-of-type {\n",
       "        vertical-align: middle;\n",
       "    }\n",
       "\n",
       "    .dataframe tbody tr th {\n",
       "        vertical-align: top;\n",
       "    }\n",
       "\n",
       "    .dataframe thead th {\n",
       "        text-align: right;\n",
       "    }\n",
       "</style>\n",
       "<table border=\"1\" class=\"dataframe\">\n",
       "  <thead>\n",
       "    <tr style=\"text-align: right;\">\n",
       "      <th></th>\n",
       "      <th>reading_score</th>\n",
       "    </tr>\n",
       "    <tr>\n",
       "      <th>school_name</th>\n",
       "      <th></th>\n",
       "    </tr>\n",
       "  </thead>\n",
       "  <tbody>\n",
       "    <tr>\n",
       "      <th>Bailey High School</th>\n",
       "      <td>4077</td>\n",
       "    </tr>\n",
       "    <tr>\n",
       "      <th>Cabrera High School</th>\n",
       "      <td>1803</td>\n",
       "    </tr>\n",
       "    <tr>\n",
       "      <th>Figueroa High School</th>\n",
       "      <td>2381</td>\n",
       "    </tr>\n",
       "    <tr>\n",
       "      <th>Ford High School</th>\n",
       "      <td>2172</td>\n",
       "    </tr>\n",
       "    <tr>\n",
       "      <th>Griffin High School</th>\n",
       "      <td>1426</td>\n",
       "    </tr>\n",
       "    <tr>\n",
       "      <th>Hernandez High School</th>\n",
       "      <td>3748</td>\n",
       "    </tr>\n",
       "    <tr>\n",
       "      <th>Holden High School</th>\n",
       "      <td>411</td>\n",
       "    </tr>\n",
       "    <tr>\n",
       "      <th>Huang High School</th>\n",
       "      <td>2372</td>\n",
       "    </tr>\n",
       "    <tr>\n",
       "      <th>Johnson High School</th>\n",
       "      <td>3867</td>\n",
       "    </tr>\n",
       "    <tr>\n",
       "      <th>Pena High School</th>\n",
       "      <td>923</td>\n",
       "    </tr>\n",
       "    <tr>\n",
       "      <th>Rodriguez High School</th>\n",
       "      <td>3208</td>\n",
       "    </tr>\n",
       "    <tr>\n",
       "      <th>Shelton High School</th>\n",
       "      <td>1688</td>\n",
       "    </tr>\n",
       "    <tr>\n",
       "      <th>Thomas High School</th>\n",
       "      <td>1591</td>\n",
       "    </tr>\n",
       "    <tr>\n",
       "      <th>Wilson High School</th>\n",
       "      <td>2204</td>\n",
       "    </tr>\n",
       "    <tr>\n",
       "      <th>Wright High School</th>\n",
       "      <td>1739</td>\n",
       "    </tr>\n",
       "  </tbody>\n",
       "</table>\n",
       "</div>"
      ],
      "text/plain": [
       "                       reading_score\n",
       "school_name                         \n",
       "Bailey High School              4077\n",
       "Cabrera High School             1803\n",
       "Figueroa High School            2381\n",
       "Ford High School                2172\n",
       "Griffin High School             1426\n",
       "Hernandez High School           3748\n",
       "Holden High School               411\n",
       "Huang High School               2372\n",
       "Johnson High School             3867\n",
       "Pena High School                 923\n",
       "Rodriguez High School           3208\n",
       "Shelton High School             1688\n",
       "Thomas High School              1591\n",
       "Wilson High School              2204\n",
       "Wright High School              1739"
      ]
     },
     "execution_count": 11,
     "metadata": {},
     "output_type": "execute_result"
    }
   ],
   "source": [
    "# Calculate the number of students per school with reading scores of 70 or higher\n",
    "students_passing_reading = school_data_complete[school_data_complete[\"reading_score\"] >= 70]\n",
    "school_students_passing_reading=students_passing_reading.groupby([\"school_name\"])[[\"reading_score\"]].count()\n",
    "school_students_passing_reading"
   ]
  },
  {
   "cell_type": "code",
   "execution_count": 12,
   "metadata": {},
   "outputs": [
    {
     "data": {
      "text/plain": [
       "school_name\n",
       "Bailey High School       2719\n",
       "Cabrera High School      1697\n",
       "Figueroa High School     1569\n",
       "Ford High School         1487\n",
       "Griffin High School      1330\n",
       "Hernandez High School    2481\n",
       "Holden High School        381\n",
       "Huang High School        1561\n",
       "Johnson High School      2549\n",
       "Pena High School          871\n",
       "Rodriguez High School    2119\n",
       "Shelton High School      1583\n",
       "Thomas High School       1487\n",
       "Wilson High School       2068\n",
       "Wright High School       1626\n",
       "dtype: int64"
      ]
     },
     "execution_count": 12,
     "metadata": {},
     "output_type": "execute_result"
    }
   ],
   "source": [
    "# Use the provided code to calculate the number of students per school that passed both math and reading with scores of 70 or higher\n",
    "students_passing_math_and_reading = school_data_complete[(school_data_complete[\"reading_score\"] >= 70) &\n",
    "                                                (school_data_complete[\"math_score\"] >= 70)]\n",
    "\n",
    "#school_students_passing_math_and_reading = students_passing_math_and_reading.groupby([\"school_name\"]).size()\n",
    "school_students_passing_math_and_reading = students_passing_math_and_reading.groupby([\"school_name\"]).size()\n",
    "school_students_passing_math_and_reading\n"
   ]
  },
  {
   "cell_type": "code",
   "execution_count": 18,
   "metadata": {},
   "outputs": [
    {
     "data": {
      "text/plain": [
       "school_name\n",
       "Bailey High School       0.020096\n",
       "Cabrera High School      0.053821\n",
       "Figueroa High School     0.033910\n",
       "Ford High School         0.036510\n",
       "Griffin High School      0.068120\n",
       "Hernandez High School    0.021575\n",
       "Holden High School       0.234192\n",
       "Huang High School        0.034282\n",
       "Johnson High School      0.021004\n",
       "Pena High School         0.103950\n",
       "Rodriguez High School    0.025006\n",
       "Shelton High School      0.056786\n",
       "Thomas High School       0.061162\n",
       "Wilson High School       0.043802\n",
       "Wright High School       0.055556\n",
       "dtype: float64"
      ]
     },
     "execution_count": 18,
     "metadata": {},
     "output_type": "execute_result"
    }
   ],
   "source": [
    "# Use the provided code to calculate the passing rates\n",
    "#per_school_passing_math\n",
    "#Error # 1 \"student_name\" after count()\n",
    "per_school_passing_math = school_students_passing_math.groupby([\"school_name\"]).count()/per_school_counts*100\n",
    "per_school_passing_math\n",
    "#per_school_passing_reading\n",
    "per_school_passing_reading = school_students_passing_reading.groupby([\"school_name\"]).count()/per_school_counts*100\n",
    "per_school_passing_reading\n",
    "##overall_passing_rate=school_students_passing_math_and_reading.groupby([\"school_name\"]).count()\n",
    "overall_passing_rate = school_students_passing_math_and_reading.groupby([\"school_name\"]).count()/per_school_counts*100\n",
    "overall_passing_rate\n"
   ]
  },
  {
   "cell_type": "code",
   "execution_count": 27,
   "metadata": {},
   "outputs": [
    {
     "ename": "NameError",
     "evalue": "name 'school_types' is not defined",
     "output_type": "error",
     "traceback": [
      "\u001b[1;31m---------------------------------------------------------------------------\u001b[0m",
      "\u001b[1;31mNameError\u001b[0m                                 Traceback (most recent call last)",
      "Cell \u001b[1;32mIn[27], line 2\u001b[0m\n\u001b[0;32m      1\u001b[0m \u001b[38;5;66;03m# Create a DataFrame called `per_school_summary` with columns for the calculations above.\u001b[39;00m\n\u001b[1;32m----> 2\u001b[0m per_school_summary \u001b[38;5;241m=\u001b[39mpd\u001b[38;5;241m.\u001b[39mDataFrame({\u001b[38;5;124m\"\u001b[39m\u001b[38;5;124mSchool Type\u001b[39m\u001b[38;5;124m\"\u001b[39m : \u001b[43mschool_types\u001b[49m, \n\u001b[0;32m      3\u001b[0m                                   \u001b[38;5;124m\"\u001b[39m\u001b[38;5;124mTotal Students\u001b[39m\u001b[38;5;124m\"\u001b[39m : per_school_counts,\n\u001b[0;32m      4\u001b[0m                                   \u001b[38;5;124m\"\u001b[39m\u001b[38;5;124mTotal School Budget\u001b[39m\u001b[38;5;124m\"\u001b[39m : per_school_budget,\n\u001b[0;32m      5\u001b[0m                                   \u001b[38;5;124m\"\u001b[39m\u001b[38;5;124mPer Student Budget\u001b[39m\u001b[38;5;124m\"\u001b[39m : per_school_capita,\n\u001b[0;32m      6\u001b[0m                                   \u001b[38;5;124m\"\u001b[39m\u001b[38;5;124mAverage Math Score\u001b[39m\u001b[38;5;124m\"\u001b[39m : per_school_math,\n\u001b[0;32m      7\u001b[0m                                   \u001b[38;5;124m\"\u001b[39m\u001b[38;5;124mAverage Reading Score\u001b[39m\u001b[38;5;124m\"\u001b[39m : per_school_reading,\n\u001b[0;32m      8\u001b[0m                                   \u001b[38;5;124m\"\u001b[39m\u001b[38;5;124m%\u001b[39m\u001b[38;5;124m Passing Math\u001b[39m\u001b[38;5;124m\"\u001b[39m : per_school_passing_math,\n\u001b[0;32m      9\u001b[0m                                   \u001b[38;5;124m\"\u001b[39m\u001b[38;5;124m%\u001b[39m\u001b[38;5;124m Passing Reading\u001b[39m\u001b[38;5;124m\"\u001b[39m : per_school_passing_reading,\n\u001b[0;32m     10\u001b[0m                                   \u001b[38;5;124m\"\u001b[39m\u001b[38;5;124m%\u001b[39m\u001b[38;5;124m Overall Passing\u001b[39m\u001b[38;5;124m\"\u001b[39m : overall_passing_rate})\n\u001b[0;32m     12\u001b[0m \u001b[38;5;66;03m# Formatting\u001b[39;00m\n\u001b[0;32m     13\u001b[0m per_school_summary[\u001b[38;5;124m\"\u001b[39m\u001b[38;5;124mTotal School Budget\u001b[39m\u001b[38;5;124m\"\u001b[39m] \u001b[38;5;241m=\u001b[39m per_school_summary[\u001b[38;5;124m\"\u001b[39m\u001b[38;5;124mTotal School Budget\u001b[39m\u001b[38;5;124m\"\u001b[39m]\u001b[38;5;241m.\u001b[39mmap(\u001b[38;5;124m\"\u001b[39m\u001b[38;5;124m$\u001b[39m\u001b[38;5;132;01m{:,.2f}\u001b[39;00m\u001b[38;5;124m\"\u001b[39m\u001b[38;5;241m.\u001b[39mformat)\n",
      "\u001b[1;31mNameError\u001b[0m: name 'school_types' is not defined"
     ]
    }
   ],
   "source": [
    "# Create a DataFrame called `per_school_summary` with columns for the calculations above.\n",
    "per_school_summary =pd.DataFrame({\"School Type\" : school_types, \n",
    "                                  \"Total Students\" : per_school_counts,\n",
    "                                  \"Total School Budget\" : per_school_budget,\n",
    "                                  \"Per Student Budget\" : per_school_capita,\n",
    "                                  \"Average Math Score\" : per_school_math,\n",
    "                                  \"Average Reading Score\" : per_school_reading,\n",
    "                                  \"% Passing Math\" : per_school_passing_math,\n",
    "                                  \"% Passing Reading\" : per_school_passing_reading,\n",
    "                                  \"% Overall Passing\" : overall_passing_rate})\n",
    "\n",
    "# Formatting\n",
    "per_school_summary[\"Total School Budget\"] = per_school_summary[\"Total School Budget\"].map(\"${:,.2f}\".format)\n",
    "per_school_summary[\"Per Student Budget\"] = per_school_summary[\"Per Student Budget\"].map(\"${:,.2f}\".format)\n",
    "\n",
    "# Display the DataFrame\n",
    "per_school_summary"
   ]
  },
  {
   "cell_type": "markdown",
   "metadata": {},
   "source": [
    "## Highest-Performing Schools (by % Overall Passing)"
   ]
  },
  {
   "cell_type": "code",
   "execution_count": null,
   "metadata": {
    "scrolled": true
   },
   "outputs": [],
   "source": [
    "# Sort the schools by `% Overall Passing` in descending order and display the top 5 rows.\n",
    "top_schools = per_school_summary.sort_values(\"% Overall Passing\", ascending = True)\n",
    "top_schools.head(5)"
   ]
  },
  {
   "cell_type": "markdown",
   "metadata": {},
   "source": [
    "## Bottom Performing Schools (By % Overall Passing)"
   ]
  },
  {
   "cell_type": "code",
   "execution_count": null,
   "metadata": {},
   "outputs": [],
   "source": [
    "# Sort the schools by `% Overall Passing` in ascending order and display the top 5 rows.\n",
    "bottom_schools = per_school_summary.sort_values(\"% Overall Passing\", ascending = False)\n",
    "bottom_schools.tail(5)"
   ]
  },
  {
   "cell_type": "markdown",
   "metadata": {},
   "source": [
    "## Math Scores by Grade"
   ]
  },
  {
   "cell_type": "code",
   "execution_count": null,
   "metadata": {},
   "outputs": [],
   "source": [
    "# Use the code provided to separate the data by grade\n",
    "ninth_graders = school_data_complete[(school_data_complete[\"grade\"] == \"9th\")]\n",
    "tenth_graders = school_data_complete[(school_data_complete[\"grade\"] == \"10th\")]\n",
    "eleventh_graders = school_data_complete[(school_data_complete[\"grade\"] == \"11th\")]\n",
    "twelfth_graders = school_data_complete[(school_data_complete[\"grade\"] == \"12th\")]\n",
    "\n",
    "# Group by `school_name` and take the mean of the `math_score` column for each.\n",
    "ninth_grade_math_scores = ninth_graders.groupby([\"school_name\"])[\"math_score\"].mean()\n",
    "tenth_grader_math_scores = tenth_graders.groupby([\"school_name\"])[\"math_score\"].mean()\n",
    "eleventh_grader_math_scores = eleventh_graders.groupby([\"school_name\"])[\"math_score\"].mean()\n",
    "twelfth_grader_math_scores = twelfth_graders.groupby([\"school_name\"])[\"math_score\"].mean()\n",
    "\n",
    "# Combine each of the scores above into single DataFrame called `math_scores_by_grade`\n",
    "math_scores_by_grade = pd.DataFrame({\"Ninth Grade Math\":ninth_grade_math_scores,\n",
    "                                     \"Tenth Grade Math\":tenth_grader_math_scores,\n",
    "                                     \"Eleventh Grade Math\":eleventh_grader_math_scores,\n",
    "                                     \"Twelfth Grade Math\":twelfth_grader_math_scores})\n",
    "#Minor data wrangling\n",
    "math_scores_by_grade.index.name = None\n",
    "\n",
    "# Display the DataFrame\n",
    "math_scores_by_grade"
   ]
  },
  {
   "cell_type": "markdown",
   "metadata": {},
   "source": [
    "## Reading Score by Grade "
   ]
  },
  {
   "cell_type": "code",
   "execution_count": null,
   "metadata": {},
   "outputs": [],
   "source": [
    "# Use the code provided to separate the data by grade\n",
    "ninth_graders = school_data_complete[(school_data_complete[\"grade\"] == \"9th\")]\n",
    "tenth_graders = school_data_complete[(school_data_complete[\"grade\"] == \"10th\")]\n",
    "eleventh_graders = school_data_complete[(school_data_complete[\"grade\"] == \"11th\")]\n",
    "twelfth_graders = school_data_complete[(school_data_complete[\"grade\"] == \"12th\")]\n",
    "\n",
    "# Group by `school_name` and take the mean of the the `reading_score` column for each.\n",
    "ninth_grade_reading_scores = ninth_graders.groupby([\"school_name\"])[\"reading_score\"].mean()\n",
    "tenth_grader_reading_scores = tenth_graders.groupby([\"school_name\"])[\"reading_score\"].mean()\n",
    "eleventh_grader_reading_scores = eleventh_graders.groupby([\"school_name\"])[\"reading_score\"].mean()\n",
    "twelfth_grader_reading_scores = twelfth_graders.groupby([\"school_name\"])[\"reading_score\"].mean()\n",
    "\n",
    "# Combine each of the scores above into single DataFrame called `reading_scores_by_grade`\n",
    "reading_scores_by_grade = pd.DataFrame({\"Ninth Grade Math\":ninth_grade_reading_scores,\n",
    "                                     \"Tenth Grade Math\":tenth_grader_reading_scores,\n",
    "                                     \"Eleventh Grade Math\":eleventh_grader_reading_scores,\n",
    "                                     \"Twelfth Grade Math\":twelfth_grader_reading_scores})\n",
    "\n",
    "# Minor data wrangling\n",
    "reading_scores_by_grade.index.name = None\n",
    "\n",
    "# Display the DataFrame\n",
    "reading_scores_by_grade"
   ]
  },
  {
   "cell_type": "markdown",
   "metadata": {},
   "source": [
    "## Scores by School Spending"
   ]
  },
  {
   "cell_type": "code",
   "execution_count": 23,
   "metadata": {},
   "outputs": [],
   "source": [
    "# Establish the bins \n",
    "spending_bins = [0, 585, 630, 645, 680]\n",
    "labels = [\"<$585\", \"$585-630\", \"$630-645\", \"$645-680\"]"
   ]
  },
  {
   "cell_type": "code",
   "execution_count": 26,
   "metadata": {},
   "outputs": [
    {
     "ename": "NameError",
     "evalue": "name 'per_school_summary' is not defined",
     "output_type": "error",
     "traceback": [
      "\u001b[1;31m---------------------------------------------------------------------------\u001b[0m",
      "\u001b[1;31mNameError\u001b[0m                                 Traceback (most recent call last)",
      "Cell \u001b[1;32mIn[26], line 3\u001b[0m\n\u001b[0;32m      1\u001b[0m \u001b[38;5;66;03m# Create a copy of the school summary since it has the \"Per Student Budget\" \u001b[39;00m\n\u001b[1;32m----> 3\u001b[0m school_spending_df \u001b[38;5;241m=\u001b[39m \u001b[43mper_school_summary\u001b[49m\u001b[38;5;241m.\u001b[39mcopy()\n\u001b[0;32m      4\u001b[0m school_spending_df\n",
      "\u001b[1;31mNameError\u001b[0m: name 'per_school_summary' is not defined"
     ]
    }
   ],
   "source": [
    "# Create a copy of the school summary since it has the \"Per Student Budget\" \n",
    "\n",
    "school_spending_df = per_school_summary.copy()\n",
    "school_spending_df\n"
   ]
  },
  {
   "cell_type": "code",
   "execution_count": 30,
   "metadata": {},
   "outputs": [
    {
     "ename": "NameError",
     "evalue": "name 'school_spending_df' is not defined",
     "output_type": "error",
     "traceback": [
      "\u001b[1;31m---------------------------------------------------------------------------\u001b[0m",
      "\u001b[1;31mNameError\u001b[0m                                 Traceback (most recent call last)",
      "Cell \u001b[1;32mIn[30], line 3\u001b[0m\n\u001b[0;32m      1\u001b[0m \u001b[38;5;66;03m# Use `pd.cut` to categorize spending based on the bins.\u001b[39;00m\n\u001b[0;32m      2\u001b[0m \u001b[38;5;66;03m#Error # 2 '<' not supported between instances of 'int' and 'str'\u001b[39;00m\n\u001b[1;32m----> 3\u001b[0m school_spending_df[\u001b[38;5;124m\"\u001b[39m\u001b[38;5;124mSpending Ranges (Per Student)\u001b[39m\u001b[38;5;124m\"\u001b[39m]\u001b[38;5;241m=\u001b[39mpd\u001b[38;5;241m.\u001b[39mcut((\u001b[43mschool_spending_df\u001b[49m[\u001b[38;5;124m\"\u001b[39m\u001b[38;5;124mPer Student Budget\u001b[39m\u001b[38;5;124m\"\u001b[39m]), spending_bins, labels\u001b[38;5;241m=\u001b[39mlabels)\u001b[38;5;241m.\u001b[39mastype(\u001b[38;5;28mfloat\u001b[39m)\n\u001b[0;32m      4\u001b[0m school_spending_df\n",
      "\u001b[1;31mNameError\u001b[0m: name 'school_spending_df' is not defined"
     ]
    }
   ],
   "source": [
    "# Use `pd.cut` to categorize spending based on the bins.\n",
    "#Error # 2 '<' not supported between instances of 'int' and 'str'\n",
    "school_spending_df[\"Spending Ranges (Per Student)\"]=pd.cut((school_spending_df[\"Per Student Budget\"]), spending_bins, labels=labels).astype(float)\n",
    "school_spending_df\n"
   ]
  },
  {
   "cell_type": "code",
   "execution_count": null,
   "metadata": {},
   "outputs": [],
   "source": [
    "#  Calculate averages for the desired columns. \n",
    "spending_math_scores = school_spending_df.groupby([\"Spending Ranges (Per Student)\"])[\"Average Math Score\"].mean()\n",
    "spending_reading_scores = school_spending_df.groupby([\"Spending Ranges (Per Student)\"])[\"Average Reading Score\"].mean()\n",
    "spending_passing_math = school_spending_df.groupby([\"Spending Ranges (Per Student)\"])[\"% Passing Math\"].mean()\n",
    "spending_passing_reading = school_spending_df.groupby([\"Spending Ranges (Per Student)\"])[\"% Passing Reading\"].mean()\n",
    "overall_passing_spending = school_spending_df.groupby([\"Spending Ranges (Per Student)\"])[\"% Overall Passing\"].mean()"
   ]
  },
  {
   "cell_type": "code",
   "execution_count": null,
   "metadata": {},
   "outputs": [],
   "source": [
    "# #Assemble into DataFrame\n",
    "spending_summary = pd.DataFrame({\"PerCapita Spending vs Math Score\":spending_math_scores,\n",
    "                                 \"Per Capital Spending vs Reading Score\":spending_reading_scores,\n",
    "                                 \"Per Capita Spending vs % Passing Math\":spending_passing_math,\n",
    "                                 \"Per Capita Spending vs % Passing Reading\":spending_passing_reading,\n",
    "                                 \"Per Capita Spending vs % Overall Passing\":overall_passing_spending })\n",
    "\n",
    "# #Display results\n",
    "spending_summary"
   ]
  },
  {
   "cell_type": "markdown",
   "metadata": {},
   "source": [
    "## Scores by School Size"
   ]
  },
  {
   "cell_type": "code",
   "execution_count": null,
   "metadata": {},
   "outputs": [],
   "source": [
    "# Establish the bins.\n",
    "size_bins = [0, 1000, 2000, 5000]\n",
    "labels = [\"Small (<1000)\", \"Medium (1000-2000)\", \"Large (2000-5000)\"]"
   ]
  },
  {
   "cell_type": "code",
   "execution_count": 28,
   "metadata": {},
   "outputs": [
    {
     "ename": "NameError",
     "evalue": "name 'school_spending_df' is not defined",
     "output_type": "error",
     "traceback": [
      "\u001b[1;31m---------------------------------------------------------------------------\u001b[0m",
      "\u001b[1;31mNameError\u001b[0m                                 Traceback (most recent call last)",
      "Cell \u001b[1;32mIn[28], line 4\u001b[0m\n\u001b[0;32m      1\u001b[0m \u001b[38;5;66;03m# Categorize the spending based on the bins\u001b[39;00m\n\u001b[0;32m      2\u001b[0m \u001b[38;5;66;03m# Use `pd.cut` on the \"Total Students\" column of the `per_school_summary` DataFrame.\u001b[39;00m\n\u001b[0;32m      3\u001b[0m \u001b[38;5;66;03m#Error # 3 name 'size_bins' is not defined\u001b[39;00m\n\u001b[1;32m----> 4\u001b[0m per_school_summary[\u001b[38;5;124m\"\u001b[39m\u001b[38;5;124mSchool Size\u001b[39m\u001b[38;5;124m\"\u001b[39m] \u001b[38;5;241m=\u001b[39m pd\u001b[38;5;241m.\u001b[39mcut(\u001b[43mschool_spending_df\u001b[49m[\u001b[38;5;124m\"\u001b[39m\u001b[38;5;124mTotal Students\u001b[39m\u001b[38;5;124m\"\u001b[39m], size_bins, labels\u001b[38;5;241m=\u001b[39mlabels)\n\u001b[0;32m      5\u001b[0m per_school_summary\n",
      "\u001b[1;31mNameError\u001b[0m: name 'school_spending_df' is not defined"
     ]
    }
   ],
   "source": [
    "# Categorize the spending based on the bins\n",
    "# Use `pd.cut` on the \"Total Students\" column of the `per_school_summary` DataFrame.\n",
    "#Error # 3 name 'size_bins' is not defined\n",
    "per_school_summary[\"School Size\"] = pd.cut(school_spending_df[\"Total Students\"], size_bins, labels=labels)\n",
    "per_school_summary"
   ]
  },
  {
   "cell_type": "code",
   "execution_count": null,
   "metadata": {},
   "outputs": [],
   "source": [
    "# Calculate averages for the desired columns. \n",
    "size_math_scores = per_school_summary.groupby([\"School Size\"])[\"Average Math Score\"].mean()\n",
    "size_reading_scores = per_school_summary.groupby([\"School Size\"])[\"Average Reading Score\"].mean()\n",
    "size_passing_math = per_school_summary.groupby([\"School Size\"])[\"% Passing Math\"].mean()\n",
    "size_passing_reading = per_school_summary.groupby([\"School Size\"])[\"% Passing Reading\"].mean()\n",
    "size_overall_passing = per_school_summary.groupby([\"School Size\"])[\"% Overall Passing\"].mean()"
   ]
  },
  {
   "cell_type": "code",
   "execution_count": null,
   "metadata": {
    "scrolled": true
   },
   "outputs": [],
   "source": [
    "# Create a DataFrame called `size_summary` that breaks down school performance based on school size (small, medium, or large).\n",
    "# Use the scores above to create a new DataFrame called `size_summary`\n",
    "size_summary = pd.DataFrame({\"Math Score Size\":size_math_scores,\n",
    "                             \"Reading Score Size\":size_reading_scores,\n",
    "                             \"Math Passing\":size_passing_math,\n",
    "                             \"Reading Passing\":size_passing_reading,\n",
    "                             \"Overall Passing\":size_overall_passing})\n",
    "\n",
    "# Display results\n",
    "size_summary"
   ]
  },
  {
   "cell_type": "markdown",
   "metadata": {},
   "source": [
    "## Scores by School Type"
   ]
  },
  {
   "cell_type": "code",
   "execution_count": null,
   "metadata": {},
   "outputs": [],
   "source": [
    "# Group the per_school_summary DataFrame by \"School Type\" and average the results.\n",
    "average_math_score_by_type = per_school_summary.groupby([\"School Type\"])[\"Average Math Score\"].mean()\n",
    "average_reading_score_by_type = per_school_summary.groupby([\"School Type\"])[\"Average Reading Score\"].mean()\n",
    "average_percent_passing_math_by_type = per_school_summary.groupby([\"School Type\"])[\"% Passing Math\"].mean()\n",
    "average_percent_passing_reading_by_type = per_school_summary.groupby([\"School Type\"])[\"% Passing Reading\"].mean()\n",
    "average_percent_overall_passing_by_type = per_school_summary.groupby([\"School Type\"])[\"% Overall Passing\"].mean()"
   ]
  },
  {
   "cell_type": "code",
   "execution_count": null,
   "metadata": {},
   "outputs": [],
   "source": [
    "# Assemble the new data by type into a DataFrame called `type_summary`\n",
    "type_summary = pd.DataFrame({\"Average Math Score\":average_math_score_by_type,\n",
    "                             \"Average Reading Score\":average_reading_score_by_type,\n",
    "                             \"Average %Passing Math\":average_percent_passing_math_by_type,\n",
    "                             \"Average %Passing Reading\":average_percent_passing_reading_by_type,\n",
    "                             \"Average %Overall Passing\":average_percent_overall_passing_by_type})\n",
    "\n",
    "# Display results\n",
    "type_summary"
   ]
  },
  {
   "cell_type": "code",
   "execution_count": null,
   "metadata": {},
   "outputs": [],
   "source": []
  },
  {
   "cell_type": "code",
   "execution_count": null,
   "metadata": {},
   "outputs": [],
   "source": []
  }
 ],
 "metadata": {
  "anaconda-cloud": {},
  "kernel_info": {
   "name": "python3"
  },
  "kernelspec": {
   "display_name": "Python 3 (ipykernel)",
   "language": "python",
   "name": "python3"
  },
  "language_info": {
   "codemirror_mode": {
    "name": "ipython",
    "version": 3
   },
   "file_extension": ".py",
   "mimetype": "text/x-python",
   "name": "python",
   "nbconvert_exporter": "python",
   "pygments_lexer": "ipython3",
   "version": "3.10.13"
  },
  "latex_envs": {
   "LaTeX_envs_menu_present": true,
   "autoclose": false,
   "autocomplete": true,
   "bibliofile": "biblio.bib",
   "cite_by": "apalike",
   "current_citInitial": 1,
   "eqLabelWithNumbers": true,
   "eqNumInitial": 1,
   "hotkeys": {
    "equation": "Ctrl-E",
    "itemize": "Ctrl-I"
   },
   "labels_anchors": false,
   "latex_user_defs": false,
   "report_style_numbering": false,
   "user_envs_cfg": false
  },
  "nteract": {
   "version": "0.8.4"
  },
  "vscode": {
   "interpreter": {
    "hash": "5384d77d82de63fd599f73e77f9ec786e7719288bf80a29ec0288c670ac3cf32"
   }
  }
 },
 "nbformat": 4,
 "nbformat_minor": 4
}
